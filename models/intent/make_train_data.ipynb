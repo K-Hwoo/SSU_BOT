{
 "cells": [
  {
   "cell_type": "code",
   "execution_count": 1,
   "metadata": {},
   "outputs": [],
   "source": [
    "import pandas as pd\n",
    "import numpy as np\n",
    "import matplotlib.pyplot as plt\n",
    "from konlpy.tag import Komoran"
   ]
  },
  {
   "cell_type": "code",
   "execution_count": 2,
   "metadata": {},
   "outputs": [],
   "source": [
    "movie = pd.read_csv(\"../../datasets/영화리뷰데이터.csv\")\n",
    "purpose = pd.read_csv(\"../../datasets/용도별목적대화데이터.csv\")\n",
    "topic = pd.read_csv(\"../../datasets/주제별일상대화데이터.csv\")\n",
    "common_sense = pd.read_csv(\"../../datasets/일반상식데이터.csv\")\n",
    "add = pd.read_csv(\"../../datasets/추가데이터.csv\")\n",
    "\n",
    "movie.dropna(inplace=True)\n",
    "purpose.dropna(inplace=True)\n",
    "topic.dropna(inplace=True)\n",
    "common_sense.dropna(inplace=True)\n",
    "add.dropna(inplace=True)"
   ]
  },
  {
   "cell_type": "code",
   "execution_count": 3,
   "metadata": {},
   "outputs": [
    {
     "name": "stdout",
     "output_type": "stream",
     "text": [
      "movie shape => (199992, 3)\n",
      "purpose shape => (480494, 1)\n",
      "topic shape => (1445760, 1)\n",
      "common_sense shape => (68538, 3)\n",
      "add shape => (9216, 2)\n"
     ]
    }
   ],
   "source": [
    "print(f\"movie shape => {movie.shape}\")\n",
    "print(f\"purpose shape => {purpose.shape}\")\n",
    "print(f\"topic shape => {topic.shape}\")\n",
    "print(f\"common_sense shape => {common_sense.shape}\")\n",
    "print(f\"add shape => {add.shape}\")"
   ]
  },
  {
   "cell_type": "code",
   "execution_count": 4,
   "metadata": {},
   "outputs": [
    {
     "name": "stdout",
     "output_type": "stream",
     "text": [
      "['어릴때보고 지금다시봐도 재밌어요ㅋㅋ', '디자인을 배우는 학생으로, 외국디자이너와 그들이 일군 전통을 통해 발전해가는 문화산업이 부러웠는데. 사실 우리나라에서도 그 어려운시절에 끝까지 열정을 지킨 노라노 같은 전통이있어 저와 같은 사람들이 꿈을 꾸고 이뤄나갈 수 있다는 것에 감사합니다.', '폴리스스토리 시리즈는 1부터 뉴까지 버릴께 하나도 없음.. 최고.', '와.. 연기가 진짜 개쩔구나.. 지루할거라고 생각했는데 몰입해서 봤다.. 그래 이런게 진짜 영화지', '안개 자욱한 밤하늘에 떠 있는 초승달 같은 영화.']\n",
      "2272538\n"
     ]
    }
   ],
   "source": [
    "all_data = list(movie[\"document\"] ) + list(purpose[\"text\"]) + list(topic[\"text\"]) + list(common_sense[\"query\"]) + list(common_sense[\"answer\"]) + list(add[\"query\"])\n",
    "\n",
    "print(all_data[0:5])\n",
    "print(len(all_data))"
   ]
  },
  {
   "cell_type": "code",
   "execution_count": 5,
   "metadata": {},
   "outputs": [],
   "source": [
    "total_data = pd.DataFrame({\"text\": all_data})\n",
    "total_data.to_csv(\"../../datasets/통합데이터.csv\", index=False)"
   ]
  },
  {
   "cell_type": "markdown",
   "metadata": {},
   "source": [
    "### 의도 분류 데이터 생성"
   ]
  },
  {
   "cell_type": "markdown",
   "metadata": {},
   "source": [
    "0 -> 번호, 1 -> 장소, 2-> 일정, 3 -> 메뉴, 4 -> 기타"
   ]
  },
  {
   "cell_type": "code",
   "execution_count": 6,
   "metadata": {},
   "outputs": [],
   "source": [
    "number = []\n",
    "place = []\n",
    "time = []\n",
    "menu = []\n",
    "etc = []"
   ]
  },
  {
   "cell_type": "code",
   "execution_count": 7,
   "metadata": {},
   "outputs": [],
   "source": [
    "for i in all_data :\n",
    "    if (\"번호\" or \"전화\") in i : \n",
    "        number.append(i)\n",
    "    \n",
    "    elif (\"어디\" or \"장소\" or \"위치\" or \"주소\") in i :\n",
    "        place.append(i)\n",
    "        \n",
    "    elif (\"시작\" or \"마감\" or \"언제\" or \"기간\" or \"시간\") in i :\n",
    "        time.append(i)\n",
    "    \n",
    "    elif (\"식사\" or \"밥\" or \"메뉴\" or \"추천\") in i :\n",
    "        menu.append(i)\n",
    "    \n",
    "    else : etc.append(i)"
   ]
  },
  {
   "cell_type": "code",
   "execution_count": 8,
   "metadata": {},
   "outputs": [
    {
     "name": "stdout",
     "output_type": "stream",
     "text": [
      "12588\n",
      "12588\n"
     ]
    }
   ],
   "source": [
    "print(len(number))\n",
    "\n",
    "number_label = []\n",
    "for _ in range(len(number)) :\n",
    "    number_label.append(0)\n",
    "    \n",
    "print(len(number_label))"
   ]
  },
  {
   "cell_type": "code",
   "execution_count": 9,
   "metadata": {},
   "outputs": [
    {
     "name": "stdout",
     "output_type": "stream",
     "text": [
      "29260\n",
      "29260\n"
     ]
    }
   ],
   "source": [
    "print(len(place))\n",
    "\n",
    "place_label = []\n",
    "for _ in range(len(place)) :\n",
    "    place_label.append(1)\n",
    "    \n",
    "print(len(place_label))"
   ]
  },
  {
   "cell_type": "code",
   "execution_count": 10,
   "metadata": {},
   "outputs": [
    {
     "name": "stdout",
     "output_type": "stream",
     "text": [
      "8332\n",
      "8332\n"
     ]
    }
   ],
   "source": [
    "print(len(time))\n",
    "\n",
    "time_label = []\n",
    "for _ in range(len(time)) :\n",
    "    time_label.append(2)\n",
    "    \n",
    "print(len(time_label))"
   ]
  },
  {
   "cell_type": "code",
   "execution_count": 11,
   "metadata": {},
   "outputs": [
    {
     "name": "stdout",
     "output_type": "stream",
     "text": [
      "1337\n",
      "1337\n"
     ]
    }
   ],
   "source": [
    "print(len(menu))\n",
    "\n",
    "menu_label = []\n",
    "for _ in range(len(menu)) :\n",
    "    menu_label.append(3)\n",
    "    \n",
    "print(len(menu_label))"
   ]
  },
  {
   "cell_type": "code",
   "execution_count": 12,
   "metadata": {},
   "outputs": [
    {
     "data": {
      "text/html": [
       "<div>\n",
       "<style scoped>\n",
       "    .dataframe tbody tr th:only-of-type {\n",
       "        vertical-align: middle;\n",
       "    }\n",
       "\n",
       "    .dataframe tbody tr th {\n",
       "        vertical-align: top;\n",
       "    }\n",
       "\n",
       "    .dataframe thead th {\n",
       "        text-align: right;\n",
       "    }\n",
       "</style>\n",
       "<table border=\"1\" class=\"dataframe\">\n",
       "  <thead>\n",
       "    <tr style=\"text-align: right;\">\n",
       "      <th></th>\n",
       "      <th>text</th>\n",
       "      <th>label</th>\n",
       "    </tr>\n",
       "  </thead>\n",
       "  <tbody>\n",
       "    <tr>\n",
       "      <th>0</th>\n",
       "      <td>이 영화 있는사람 공유 부탁합니다 제 폰번호 010 4427 2774 연락한통만요^-^;</td>\n",
       "      <td>0</td>\n",
       "    </tr>\n",
       "    <tr>\n",
       "      <th>1</th>\n",
       "      <td>작가때문에 1점 주려다가 영화가 너무 좋아서 10점줌비행기를 끌고 추운곳에다 추락시...</td>\n",
       "      <td>0</td>\n",
       "    </tr>\n",
       "    <tr>\n",
       "      <th>2</th>\n",
       "      <td>비밀번호가 뭐야? 서윤내사랑 ㅋ_ㅋ</td>\n",
       "      <td>0</td>\n",
       "    </tr>\n",
       "    <tr>\n",
       "      <th>3</th>\n",
       "      <td>용팔이 시르즈를 볼려면 어떻게 하는지.전화번호좀</td>\n",
       "      <td>0</td>\n",
       "    </tr>\n",
       "    <tr>\n",
       "      <th>4</th>\n",
       "      <td>보다 말았는데 심장 졸라 쫄깃해진다;; 근데 여주 졸라 답답함. 세면대 물기 닦는 ...</td>\n",
       "      <td>0</td>\n",
       "    </tr>\n",
       "  </tbody>\n",
       "</table>\n",
       "</div>"
      ],
      "text/plain": [
       "                                                text  label\n",
       "0  이 영화 있는사람 공유 부탁합니다 제 폰번호 010 4427 2774 연락한통만요^-^;      0\n",
       "1  작가때문에 1점 주려다가 영화가 너무 좋아서 10점줌비행기를 끌고 추운곳에다 추락시...      0\n",
       "2                                비밀번호가 뭐야? 서윤내사랑 ㅋ_ㅋ      0\n",
       "3                         용팔이 시르즈를 볼려면 어떻게 하는지.전화번호좀      0\n",
       "4  보다 말았는데 심장 졸라 쫄깃해진다;; 근데 여주 졸라 답답함. 세면대 물기 닦는 ...      0"
      ]
     },
     "execution_count": 12,
     "metadata": {},
     "output_type": "execute_result"
    }
   ],
   "source": [
    "train_df = pd.DataFrame({\"text\" : number+place+time+menu,\n",
    "                         \"label\" : number_label+place_label+time_label+menu_label})\n",
    "\n",
    "train_df.head()"
   ]
  },
  {
   "cell_type": "code",
   "execution_count": 13,
   "metadata": {},
   "outputs": [
    {
     "data": {
      "text/html": [
       "<div>\n",
       "<style scoped>\n",
       "    .dataframe tbody tr th:only-of-type {\n",
       "        vertical-align: middle;\n",
       "    }\n",
       "\n",
       "    .dataframe tbody tr th {\n",
       "        vertical-align: top;\n",
       "    }\n",
       "\n",
       "    .dataframe thead th {\n",
       "        text-align: right;\n",
       "    }\n",
       "</style>\n",
       "<table border=\"1\" class=\"dataframe\">\n",
       "  <thead>\n",
       "    <tr style=\"text-align: right;\">\n",
       "      <th></th>\n",
       "      <th>text</th>\n",
       "      <th>label</th>\n",
       "    </tr>\n",
       "  </thead>\n",
       "  <tbody>\n",
       "    <tr>\n",
       "      <th>51512</th>\n",
       "      <td>팀장님과 점심 식사 일정 언제니</td>\n",
       "      <td>3</td>\n",
       "    </tr>\n",
       "    <tr>\n",
       "      <th>51513</th>\n",
       "      <td>내일 저녁 식사 약속이 언제니</td>\n",
       "      <td>3</td>\n",
       "    </tr>\n",
       "    <tr>\n",
       "      <th>51514</th>\n",
       "      <td>오늘 점심식사 예약 시간 언제인지 확인해라</td>\n",
       "      <td>3</td>\n",
       "    </tr>\n",
       "    <tr>\n",
       "      <th>51515</th>\n",
       "      <td>가족 식사는 언제 하기로 했었니</td>\n",
       "      <td>3</td>\n",
       "    </tr>\n",
       "    <tr>\n",
       "      <th>51516</th>\n",
       "      <td>내일 교수님과 식사 언제부터니</td>\n",
       "      <td>3</td>\n",
       "    </tr>\n",
       "  </tbody>\n",
       "</table>\n",
       "</div>"
      ],
      "text/plain": [
       "                          text  label\n",
       "51512        팀장님과 점심 식사 일정 언제니      3\n",
       "51513         내일 저녁 식사 약속이 언제니      3\n",
       "51514  오늘 점심식사 예약 시간 언제인지 확인해라      3\n",
       "51515        가족 식사는 언제 하기로 했었니      3\n",
       "51516         내일 교수님과 식사 언제부터니      3"
      ]
     },
     "execution_count": 13,
     "metadata": {},
     "output_type": "execute_result"
    }
   ],
   "source": [
    "train_df.tail()"
   ]
  },
  {
   "cell_type": "code",
   "execution_count": 14,
   "metadata": {},
   "outputs": [],
   "source": [
    "train_df.reset_index(drop=True, inplace=True)"
   ]
  },
  {
   "cell_type": "code",
   "execution_count": 15,
   "metadata": {},
   "outputs": [],
   "source": [
    "train_df.to_csv(\"train_data.csv\")"
   ]
  },
  {
   "cell_type": "markdown",
   "metadata": {},
   "source": [
    "### 적절한 패딩 길이 구하기"
   ]
  },
  {
   "cell_type": "code",
   "execution_count": 16,
   "metadata": {},
   "outputs": [],
   "source": [
    "data = pd.read_csv(\"train_data.csv\")"
   ]
  },
  {
   "cell_type": "code",
   "execution_count": 17,
   "metadata": {},
   "outputs": [
    {
     "data": {
      "text/plain": [
       "(51517, 3)"
      ]
     },
     "execution_count": 17,
     "metadata": {},
     "output_type": "execute_result"
    }
   ],
   "source": [
    "data.shape"
   ]
  },
  {
   "cell_type": "code",
   "execution_count": 18,
   "metadata": {},
   "outputs": [],
   "source": [
    "tokenizer = Komoran()"
   ]
  },
  {
   "cell_type": "code",
   "execution_count": 19,
   "metadata": {},
   "outputs": [],
   "source": [
    "data_tokenized = [[token + \"/\" + POS for token, POS in tokenizer.pos(text_)] for text_ in data['text']]\n",
    "\n",
    "exclusion_tags = [\n",
    "            'JKS', 'JKC', 'JKG', 'JKO', 'JKB', 'JKV', 'JKQ',\n",
    "            'JX', 'JC',\n",
    "            'SF', 'SP', 'SS', 'SE', 'SO',\n",
    "            'EP', 'EF', 'EC', 'ETN', 'ETM',\n",
    "            'XSN', 'XSV', 'XSA'\n",
    "]\n",
    "\n",
    "f = lambda x: x in exclusion_tags\n",
    "\n",
    "data_list = []\n",
    "for i in range(len(data_tokenized)):\n",
    "        temp = []\n",
    "        for j in range(len(data_tokenized[i])):\n",
    "            if f(data_tokenized[i][j].split('/')[1]) is False:\n",
    "                temp.append(data_tokenized[i][j].split('/')[0])\n",
    "        data_list.append(temp)"
   ]
  },
  {
   "cell_type": "code",
   "execution_count": 20,
   "metadata": {},
   "outputs": [
    {
     "data": {
      "text/plain": [
       "['이',\n",
       " '영화',\n",
       " '있',\n",
       " '사람',\n",
       " '공유',\n",
       " '부탁',\n",
       " '제',\n",
       " '폰',\n",
       " '번호',\n",
       " '010',\n",
       " '4427',\n",
       " '2774',\n",
       " '연락',\n",
       " '한통',\n",
       " '만요',\n",
       " '^',\n",
       " '^']"
      ]
     },
     "execution_count": 20,
     "metadata": {},
     "output_type": "execute_result"
    }
   ],
   "source": [
    "data_list[0]"
   ]
  },
  {
   "cell_type": "code",
   "execution_count": 21,
   "metadata": {},
   "outputs": [
    {
     "name": "stdout",
     "output_type": "stream",
     "text": [
      "토큰 길이 평균: 7.609313430518082\n",
      "토큰 길이 최대: 69\n",
      "토큰 길이 표준편차: 5.011374858328802\n"
     ]
    }
   ],
   "source": [
    "num_tokens = [len(tokens) for tokens in data_list]\n",
    "num_tokens = np.array(num_tokens)\n",
    "\n",
    "# 평균값, 최댓값, 표준편차\n",
    "print(f\"토큰 길이 평균: {np.mean(num_tokens)}\")\n",
    "print(f\"토큰 길이 최대: {np.max(num_tokens)}\")\n",
    "print(f\"토큰 길이 표준편차: {np.std(num_tokens)}\")"
   ]
  },
  {
   "cell_type": "code",
   "execution_count": 22,
   "metadata": {},
   "outputs": [
    {
     "data": {
      "image/png": "[encoded data removed]",
      "text/plain": [
       "<Figure size 640x480 with 1 Axes>"
      ]
     },
     "metadata": {},
     "output_type": "display_data"
    }
   ],
   "source": [
    "plt.title('all text length')\n",
    "plt.hist(num_tokens, bins=100)\n",
    "plt.xlabel('length of samples')\n",
    "plt.ylabel('number of samples')\n",
    "plt.show()"
   ]
  },
  {
   "cell_type": "code",
   "execution_count": 23,
   "metadata": {},
   "outputs": [
    {
     "name": "stdout",
     "output_type": "stream",
     "text": [
      "전체 샘플 중 길이가 25 이하인 샘플의 비율: 0.982840615719083\n"
     ]
    }
   ],
   "source": [
    "select_length = 25\n",
    "\n",
    "def below_threshold_len(max_len, nested_list):\n",
    "    cnt = 0\n",
    "    for s in nested_list:\n",
    "        if(len(s) <= max_len):\n",
    "            cnt = cnt + 1\n",
    "        \n",
    "    print('전체 샘플 중 길이가 %s 이하인 샘플의 비율: %s'%(max_len, (cnt / len(nested_list))))\n",
    "    \n",
    "below_threshold_len(select_length, data_list)"
   ]
  },
  {
   "cell_type": "code",
   "execution_count": null,
   "metadata": {},
   "outputs": [],
   "source": []
  }
 ],
 "metadata": {
  "kernelspec": {
   "display_name": "chatbot",
   "language": "python",
   "name": "python3"
  },
  "language_info": {
   "codemirror_mode": {
    "name": "ipython",
    "version": 3
   },
   "file_extension": ".py",
   "mimetype": "text/x-python",
   "name": "python",
   "nbconvert_exporter": "python",
   "pygments_lexer": "ipython3",
   "version": "3.9.19"
  }
 },
 "nbformat": 4,
 "nbformat_minor": 2
}
